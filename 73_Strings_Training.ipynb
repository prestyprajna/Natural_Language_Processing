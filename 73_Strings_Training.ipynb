{
  "nbformat": 4,
  "nbformat_minor": 0,
  "metadata": {
    "colab": {
      "name": "73_Strings_Training.ipynb",
      "provenance": [],
      "collapsed_sections": [],
      "authorship_tag": "ABX9TyN9s9Dh6CoZ0nLPo4MXw5H4"
    },
    "kernelspec": {
      "name": "python3",
      "display_name": "Python 3"
    }
  },
  "cells": [
    {
      "cell_type": "code",
      "metadata": {
        "id": "r8WdZ_vZnbe9"
      },
      "source": [
        "import pandas as pd"
      ],
      "execution_count": null,
      "outputs": []
    },
    {
      "cell_type": "code",
      "metadata": {
        "id": "RADCzSLBoH5N"
      },
      "source": [
        "df = pd.read_csv('Training_Data.csv')"
      ],
      "execution_count": null,
      "outputs": []
    },
    {
      "cell_type": "code",
      "metadata": {
        "colab": {
          "base_uri": "https://localhost:8080/",
          "height": 198
        },
        "id": "nmiBP2QLqHUT",
        "outputId": "ff2a3239-3b74-4d42-b806-c24de8d4557d"
      },
      "source": [
        "df.head()"
      ],
      "execution_count": null,
      "outputs": [
        {
          "output_type": "execute_result",
          "data": {
            "text/html": [
              "<div>\n",
              "<style scoped>\n",
              "    .dataframe tbody tr th:only-of-type {\n",
              "        vertical-align: middle;\n",
              "    }\n",
              "\n",
              "    .dataframe tbody tr th {\n",
              "        vertical-align: top;\n",
              "    }\n",
              "\n",
              "    .dataframe thead th {\n",
              "        text-align: right;\n",
              "    }\n",
              "</style>\n",
              "<table border=\"1\" class=\"dataframe\">\n",
              "  <thead>\n",
              "    <tr style=\"text-align: right;\">\n",
              "      <th></th>\n",
              "      <th>Company Name</th>\n",
              "      <th>Business Description</th>\n",
              "      <th>Industry Classification Tag</th>\n",
              "    </tr>\n",
              "  </thead>\n",
              "  <tbody>\n",
              "    <tr>\n",
              "      <th>0</th>\n",
              "      <td>ADSOUTH PARTNERS, INC.</td>\n",
              "      <td>Adsouth Partners, Inc. provides advertising ag...</td>\n",
              "      <td>Advertising</td>\n",
              "    </tr>\n",
              "    <tr>\n",
              "      <th>1</th>\n",
              "      <td>Artec Global Media, Inc.</td>\n",
              "      <td>Artec Global Media, Inc., formerly Artec Consu...</td>\n",
              "      <td>Advertising</td>\n",
              "    </tr>\n",
              "    <tr>\n",
              "      <th>2</th>\n",
              "      <td>Betawave Corp.</td>\n",
              "      <td>Betawave Corporation provides online marketing...</td>\n",
              "      <td>Advertising</td>\n",
              "    </tr>\n",
              "    <tr>\n",
              "      <th>3</th>\n",
              "      <td>BOSTON OMAHA Corp</td>\n",
              "      <td>Boston Omaha Corporation is engaged in the bus...</td>\n",
              "      <td>Advertising</td>\n",
              "    </tr>\n",
              "    <tr>\n",
              "      <th>4</th>\n",
              "      <td>Bright Mountain Media Inc</td>\n",
              "      <td>Bright Mountain Media, Inc. is a digital media...</td>\n",
              "      <td>Advertising</td>\n",
              "    </tr>\n",
              "  </tbody>\n",
              "</table>\n",
              "</div>"
            ],
            "text/plain": [
              "                Company Name  ... Industry Classification Tag\n",
              "0     ADSOUTH PARTNERS, INC.  ...                 Advertising\n",
              "1   Artec Global Media, Inc.  ...                 Advertising\n",
              "2             Betawave Corp.  ...                 Advertising\n",
              "3          BOSTON OMAHA Corp  ...                 Advertising\n",
              "4  Bright Mountain Media Inc  ...                 Advertising\n",
              "\n",
              "[5 rows x 3 columns]"
            ]
          },
          "metadata": {
            "tags": []
          },
          "execution_count": 3
        }
      ]
    },
    {
      "cell_type": "code",
      "metadata": {
        "colab": {
          "base_uri": "https://localhost:8080/"
        },
        "id": "sE5PIT1sqftu",
        "outputId": "d6c4089d-f2e2-400a-89ae-7c9f295f6437"
      },
      "source": [
        "df.shape"
      ],
      "execution_count": null,
      "outputs": [
        {
          "output_type": "execute_result",
          "data": {
            "text/plain": [
              "(6045, 3)"
            ]
          },
          "metadata": {
            "tags": []
          },
          "execution_count": 4
        }
      ]
    },
    {
      "cell_type": "code",
      "metadata": {
        "id": "PT2EY9w18vun"
      },
      "source": [
        "# Drop the Company Name Column as it is not relevant in determining the Industry Classification Tag\r\n",
        "df = df.drop('Company Name',axis = 1)"
      ],
      "execution_count": null,
      "outputs": []
    },
    {
      "cell_type": "markdown",
      "metadata": {
        "id": "EGyt_gpZZhZA"
      },
      "source": [
        "Find the number of null values"
      ]
    },
    {
      "cell_type": "code",
      "metadata": {
        "colab": {
          "base_uri": "https://localhost:8080/"
        },
        "id": "RNS1uFZTqRI-",
        "outputId": "e70c90e8-3d44-40c1-a484-e8b449d3e3f3"
      },
      "source": [
        "df.isnull().sum()"
      ],
      "execution_count": null,
      "outputs": [
        {
          "output_type": "execute_result",
          "data": {
            "text/plain": [
              "Business Description           23\n",
              "Industry Classification Tag     0\n",
              "dtype: int64"
            ]
          },
          "metadata": {
            "tags": []
          },
          "execution_count": 6
        }
      ]
    },
    {
      "cell_type": "markdown",
      "metadata": {
        "id": "cmCUpVgsaEB6"
      },
      "source": [
        "Dropping all NAN values"
      ]
    },
    {
      "cell_type": "code",
      "metadata": {
        "id": "4NayawCarrtj"
      },
      "source": [
        "df = df.dropna()"
      ],
      "execution_count": null,
      "outputs": []
    },
    {
      "cell_type": "code",
      "metadata": {
        "id": "1ZWAY15QuVOQ"
      },
      "source": [
        "# Changing the name of below two columns for ease to access\r\n",
        "df.rename(columns = {'Industry Classification Tag':'Label'}, inplace = True) \r\n",
        "df.rename(columns = {'Business Description':'Busn_Desc'}, inplace = True) "
      ],
      "execution_count": null,
      "outputs": []
    },
    {
      "cell_type": "code",
      "metadata": {
        "colab": {
          "base_uri": "https://localhost:8080/",
          "height": 198
        },
        "id": "Cfug2rGFsn0G",
        "outputId": "76935df2-c06a-4c6a-fd88-de98e03b78e4"
      },
      "source": [
        "df.head(5)"
      ],
      "execution_count": null,
      "outputs": [
        {
          "output_type": "execute_result",
          "data": {
            "text/html": [
              "<div>\n",
              "<style scoped>\n",
              "    .dataframe tbody tr th:only-of-type {\n",
              "        vertical-align: middle;\n",
              "    }\n",
              "\n",
              "    .dataframe tbody tr th {\n",
              "        vertical-align: top;\n",
              "    }\n",
              "\n",
              "    .dataframe thead th {\n",
              "        text-align: right;\n",
              "    }\n",
              "</style>\n",
              "<table border=\"1\" class=\"dataframe\">\n",
              "  <thead>\n",
              "    <tr style=\"text-align: right;\">\n",
              "      <th></th>\n",
              "      <th>Busn_Desc</th>\n",
              "      <th>Label</th>\n",
              "    </tr>\n",
              "  </thead>\n",
              "  <tbody>\n",
              "    <tr>\n",
              "      <th>0</th>\n",
              "      <td>Adsouth Partners, Inc. provides advertising ag...</td>\n",
              "      <td>Advertising</td>\n",
              "    </tr>\n",
              "    <tr>\n",
              "      <th>1</th>\n",
              "      <td>Artec Global Media, Inc., formerly Artec Consu...</td>\n",
              "      <td>Advertising</td>\n",
              "    </tr>\n",
              "    <tr>\n",
              "      <th>2</th>\n",
              "      <td>Betawave Corporation provides online marketing...</td>\n",
              "      <td>Advertising</td>\n",
              "    </tr>\n",
              "    <tr>\n",
              "      <th>3</th>\n",
              "      <td>Boston Omaha Corporation is engaged in the bus...</td>\n",
              "      <td>Advertising</td>\n",
              "    </tr>\n",
              "    <tr>\n",
              "      <th>4</th>\n",
              "      <td>Bright Mountain Media, Inc. is a digital media...</td>\n",
              "      <td>Advertising</td>\n",
              "    </tr>\n",
              "  </tbody>\n",
              "</table>\n",
              "</div>"
            ],
            "text/plain": [
              "                                           Busn_Desc        Label\n",
              "0  Adsouth Partners, Inc. provides advertising ag...  Advertising\n",
              "1  Artec Global Media, Inc., formerly Artec Consu...  Advertising\n",
              "2  Betawave Corporation provides online marketing...  Advertising\n",
              "3  Boston Omaha Corporation is engaged in the bus...  Advertising\n",
              "4  Bright Mountain Media, Inc. is a digital media...  Advertising"
            ]
          },
          "metadata": {
            "tags": []
          },
          "execution_count": 9
        }
      ]
    },
    {
      "cell_type": "markdown",
      "metadata": {
        "id": "oO8HXzneaXYW"
      },
      "source": [
        "Perform Label Encoding since it contains Categorical Features"
      ]
    },
    {
      "cell_type": "code",
      "metadata": {
        "colab": {
          "base_uri": "https://localhost:8080/"
        },
        "id": "z9x0iGUZtDXJ",
        "outputId": "d624bba3-37f1-4653-b23f-1ca16b76d23c"
      },
      "source": [
        "# Import label encoder \r\n",
        "from sklearn import preprocessing \r\n",
        "# label_encoder object knows how to understand word labels. \r\n",
        "label_encoder = preprocessing.LabelEncoder() \r\n",
        "  \r\n",
        "# Encode labels in column 'species'. \r\n",
        "df['Label']= label_encoder.fit_transform(df['Label']) \r\n",
        "  \r\n",
        "df['Label'].unique() "
      ],
      "execution_count": null,
      "outputs": [
        {
          "output_type": "execute_result",
          "data": {
            "text/plain": [
              "array([ 0,  1,  2,  3,  4,  5,  6,  7,  8,  9, 10, 11, 12, 13, 14, 15, 16,\n",
              "       17, 18, 19, 20, 21, 22, 23, 24, 25, 26, 27, 28, 29, 30, 32, 33, 34,\n",
              "       35, 36, 37, 31, 38, 39, 40, 41, 42, 43, 44, 45, 46, 47, 48, 49, 50,\n",
              "       51, 52, 53, 54, 55, 56, 57, 58, 59, 60, 61])"
            ]
          },
          "metadata": {
            "tags": []
          },
          "execution_count": 10
        }
      ]
    },
    {
      "cell_type": "code",
      "metadata": {
        "colab": {
          "base_uri": "https://localhost:8080/",
          "height": 198
        },
        "id": "4UXaeYMitpaJ",
        "outputId": "ec81753a-3d25-403b-a90b-59af3c04aac9"
      },
      "source": [
        "df.head()"
      ],
      "execution_count": null,
      "outputs": [
        {
          "output_type": "execute_result",
          "data": {
            "text/html": [
              "<div>\n",
              "<style scoped>\n",
              "    .dataframe tbody tr th:only-of-type {\n",
              "        vertical-align: middle;\n",
              "    }\n",
              "\n",
              "    .dataframe tbody tr th {\n",
              "        vertical-align: top;\n",
              "    }\n",
              "\n",
              "    .dataframe thead th {\n",
              "        text-align: right;\n",
              "    }\n",
              "</style>\n",
              "<table border=\"1\" class=\"dataframe\">\n",
              "  <thead>\n",
              "    <tr style=\"text-align: right;\">\n",
              "      <th></th>\n",
              "      <th>Busn_Desc</th>\n",
              "      <th>Label</th>\n",
              "    </tr>\n",
              "  </thead>\n",
              "  <tbody>\n",
              "    <tr>\n",
              "      <th>0</th>\n",
              "      <td>Adsouth Partners, Inc. provides advertising ag...</td>\n",
              "      <td>0</td>\n",
              "    </tr>\n",
              "    <tr>\n",
              "      <th>1</th>\n",
              "      <td>Artec Global Media, Inc., formerly Artec Consu...</td>\n",
              "      <td>0</td>\n",
              "    </tr>\n",
              "    <tr>\n",
              "      <th>2</th>\n",
              "      <td>Betawave Corporation provides online marketing...</td>\n",
              "      <td>0</td>\n",
              "    </tr>\n",
              "    <tr>\n",
              "      <th>3</th>\n",
              "      <td>Boston Omaha Corporation is engaged in the bus...</td>\n",
              "      <td>0</td>\n",
              "    </tr>\n",
              "    <tr>\n",
              "      <th>4</th>\n",
              "      <td>Bright Mountain Media, Inc. is a digital media...</td>\n",
              "      <td>0</td>\n",
              "    </tr>\n",
              "  </tbody>\n",
              "</table>\n",
              "</div>"
            ],
            "text/plain": [
              "                                           Busn_Desc  Label\n",
              "0  Adsouth Partners, Inc. provides advertising ag...      0\n",
              "1  Artec Global Media, Inc., formerly Artec Consu...      0\n",
              "2  Betawave Corporation provides online marketing...      0\n",
              "3  Boston Omaha Corporation is engaged in the bus...      0\n",
              "4  Bright Mountain Media, Inc. is a digital media...      0"
            ]
          },
          "metadata": {
            "tags": []
          },
          "execution_count": 11
        }
      ]
    },
    {
      "cell_type": "code",
      "metadata": {
        "colab": {
          "base_uri": "https://localhost:8080/",
          "height": 348
        },
        "id": "IrYXkeS56V7m",
        "outputId": "1abda657-3196-4ffd-ded8-2aacc536ecf0"
      },
      "source": [
        "msg = df.copy()\r\n",
        "msg.reset_index(inplace=True)\r\n",
        "msg.head(10)"
      ],
      "execution_count": null,
      "outputs": [
        {
          "output_type": "execute_result",
          "data": {
            "text/html": [
              "<div>\n",
              "<style scoped>\n",
              "    .dataframe tbody tr th:only-of-type {\n",
              "        vertical-align: middle;\n",
              "    }\n",
              "\n",
              "    .dataframe tbody tr th {\n",
              "        vertical-align: top;\n",
              "    }\n",
              "\n",
              "    .dataframe thead th {\n",
              "        text-align: right;\n",
              "    }\n",
              "</style>\n",
              "<table border=\"1\" class=\"dataframe\">\n",
              "  <thead>\n",
              "    <tr style=\"text-align: right;\">\n",
              "      <th></th>\n",
              "      <th>index</th>\n",
              "      <th>Busn_Desc</th>\n",
              "      <th>Label</th>\n",
              "    </tr>\n",
              "  </thead>\n",
              "  <tbody>\n",
              "    <tr>\n",
              "      <th>0</th>\n",
              "      <td>0</td>\n",
              "      <td>Adsouth Partners, Inc. provides advertising ag...</td>\n",
              "      <td>0</td>\n",
              "    </tr>\n",
              "    <tr>\n",
              "      <th>1</th>\n",
              "      <td>1</td>\n",
              "      <td>Artec Global Media, Inc., formerly Artec Consu...</td>\n",
              "      <td>0</td>\n",
              "    </tr>\n",
              "    <tr>\n",
              "      <th>2</th>\n",
              "      <td>2</td>\n",
              "      <td>Betawave Corporation provides online marketing...</td>\n",
              "      <td>0</td>\n",
              "    </tr>\n",
              "    <tr>\n",
              "      <th>3</th>\n",
              "      <td>3</td>\n",
              "      <td>Boston Omaha Corporation is engaged in the bus...</td>\n",
              "      <td>0</td>\n",
              "    </tr>\n",
              "    <tr>\n",
              "      <th>4</th>\n",
              "      <td>4</td>\n",
              "      <td>Bright Mountain Media, Inc. is a digital media...</td>\n",
              "      <td>0</td>\n",
              "    </tr>\n",
              "    <tr>\n",
              "      <th>5</th>\n",
              "      <td>5</td>\n",
              "      <td>Cardlytics, Inc. is engaged in developing a pu...</td>\n",
              "      <td>0</td>\n",
              "    </tr>\n",
              "    <tr>\n",
              "      <th>6</th>\n",
              "      <td>6</td>\n",
              "      <td>CMG Holdings Group, Inc. is a holding company....</td>\n",
              "      <td>0</td>\n",
              "    </tr>\n",
              "    <tr>\n",
              "      <th>7</th>\n",
              "      <td>7</td>\n",
              "      <td>comScore, Inc. is a cross-platform measurement...</td>\n",
              "      <td>0</td>\n",
              "    </tr>\n",
              "    <tr>\n",
              "      <th>8</th>\n",
              "      <td>8</td>\n",
              "      <td>Connected Media Technologies, Inc. is a sales ...</td>\n",
              "      <td>0</td>\n",
              "    </tr>\n",
              "    <tr>\n",
              "      <th>9</th>\n",
              "      <td>9</td>\n",
              "      <td>Credit One Financial, Inc., through its subsid...</td>\n",
              "      <td>0</td>\n",
              "    </tr>\n",
              "  </tbody>\n",
              "</table>\n",
              "</div>"
            ],
            "text/plain": [
              "   index                                          Busn_Desc  Label\n",
              "0      0  Adsouth Partners, Inc. provides advertising ag...      0\n",
              "1      1  Artec Global Media, Inc., formerly Artec Consu...      0\n",
              "2      2  Betawave Corporation provides online marketing...      0\n",
              "3      3  Boston Omaha Corporation is engaged in the bus...      0\n",
              "4      4  Bright Mountain Media, Inc. is a digital media...      0\n",
              "5      5  Cardlytics, Inc. is engaged in developing a pu...      0\n",
              "6      6  CMG Holdings Group, Inc. is a holding company....      0\n",
              "7      7  comScore, Inc. is a cross-platform measurement...      0\n",
              "8      8  Connected Media Technologies, Inc. is a sales ...      0\n",
              "9      9  Credit One Financial, Inc., through its subsid...      0"
            ]
          },
          "metadata": {
            "tags": []
          },
          "execution_count": 12
        }
      ]
    },
    {
      "cell_type": "code",
      "metadata": {
        "colab": {
          "base_uri": "https://localhost:8080/"
        },
        "id": "ZHfrcTMG9W3g",
        "outputId": "6ae93348-a433-4361-8cd0-8bc6c1b996f2"
      },
      "source": [
        "len(msg)"
      ],
      "execution_count": null,
      "outputs": [
        {
          "output_type": "execute_result",
          "data": {
            "text/plain": [
              "6022"
            ]
          },
          "metadata": {
            "tags": []
          },
          "execution_count": 13
        }
      ]
    },
    {
      "cell_type": "code",
      "metadata": {
        "id": "PFCO16i8zauZ",
        "colab": {
          "base_uri": "https://localhost:8080/"
        },
        "outputId": "e68a27d2-b904-48ec-910f-5b3d96b191f0"
      },
      "source": [
        "import re\r\n",
        "import nltk\r\n",
        "nltk.download('stopwords')\r\n",
        "from nltk.corpus import stopwords\r\n",
        "from nltk.stem.porter import PorterStemmer\r\n",
        "corpus = []\r\n",
        "for i in range(0,len(msg)):\r\n",
        "  review = re.sub('[^a-zA-Z]', ' ', msg['Busn_Desc'][i])\r\n",
        "  review = review.lower()\r\n",
        "  review = review.split()\r\n",
        "  ps = PorterStemmer()  \r\n",
        "  review = [ps.stem(word) for word in review if not word in stopwords.words('english')]\r\n",
        "  review = ' '.join(review)\r\n",
        "  corpus.append(review)"
      ],
      "execution_count": null,
      "outputs": [
        {
          "output_type": "stream",
          "text": [
            "[nltk_data] Downloading package stopwords to /root/nltk_data...\n",
            "[nltk_data]   Package stopwords is already up-to-date!\n"
          ],
          "name": "stdout"
        }
      ]
    },
    {
      "cell_type": "code",
      "metadata": {
        "colab": {
          "base_uri": "https://localhost:8080/",
          "height": 108
        },
        "id": "V_gwqgF--uET",
        "outputId": "344802c6-bc7b-4fbc-8878-46868651f741"
      },
      "source": [
        "corpus[3]"
      ],
      "execution_count": null,
      "outputs": [
        {
          "output_type": "execute_result",
          "data": {
            "application/vnd.google.colaboratory.intrinsic+json": {
              "type": "string"
            },
            "text/plain": [
              "'boston omaha corpor engag busi variou sector includ advertis insur real estat compani oper includ ownership multipl billboard alabama florida georgia west virginia wisconsin equiti method invest sever real estat real estat servic compani compani insur oper conduct subsidiari gener indemn group llc compani oper includ billboard advertis busi insur busi special sureti bond compani subsidiari includ link media hold llc gener indemn direct insur servic llc'"
            ]
          },
          "metadata": {
            "tags": []
          },
          "execution_count": 15
        }
      ]
    },
    {
      "cell_type": "code",
      "metadata": {
        "id": "bxpM47eS_ZXo"
      },
      "source": [
        "## Applying Countvectorizer\r\n",
        "# Creating the Bag of Words model\r\n",
        "from sklearn.feature_extraction.text import CountVectorizer\r\n",
        "cv = CountVectorizer(max_features=1500)\r\n",
        "X = cv.fit_transform(corpus).toarray()"
      ],
      "execution_count": null,
      "outputs": []
    },
    {
      "cell_type": "code",
      "metadata": {
        "colab": {
          "base_uri": "https://localhost:8080/"
        },
        "id": "WMZFYLSd_zlV",
        "outputId": "a2c4d257-07d7-4ccb-ec98-ed1ac51610f8"
      },
      "source": [
        "X.shape"
      ],
      "execution_count": null,
      "outputs": [
        {
          "output_type": "execute_result",
          "data": {
            "text/plain": [
              "(6022, 1500)"
            ]
          },
          "metadata": {
            "tags": []
          },
          "execution_count": 17
        }
      ]
    },
    {
      "cell_type": "code",
      "metadata": {
        "colab": {
          "base_uri": "https://localhost:8080/"
        },
        "id": "5xD16apLAHQ5",
        "outputId": "9bceb4bf-ca3a-4b4b-b022-7e50cf02ea47"
      },
      "source": [
        "y = msg['Label']\r\n",
        "y.shape"
      ],
      "execution_count": null,
      "outputs": [
        {
          "output_type": "execute_result",
          "data": {
            "text/plain": [
              "(6022,)"
            ]
          },
          "metadata": {
            "tags": []
          },
          "execution_count": 18
        }
      ]
    },
    {
      "cell_type": "code",
      "metadata": {
        "colab": {
          "base_uri": "https://localhost:8080/"
        },
        "id": "uEIbGMA0AQka",
        "outputId": "1962d3c5-9cd4-41bb-f3ff-838f229c1c74"
      },
      "source": [
        "len(X[0])"
      ],
      "execution_count": null,
      "outputs": [
        {
          "output_type": "execute_result",
          "data": {
            "text/plain": [
              "1500"
            ]
          },
          "metadata": {
            "tags": []
          },
          "execution_count": 19
        }
      ]
    },
    {
      "cell_type": "code",
      "metadata": {
        "id": "IpwZs4IDAk6q"
      },
      "source": [
        "## Divide the dataset into Train and Test\r\n",
        "from sklearn.model_selection import train_test_split\r\n",
        "X_train, X_test, y_train, y_test = train_test_split(X, y, test_size=0.2, random_state=0)"
      ],
      "execution_count": null,
      "outputs": []
    },
    {
      "cell_type": "code",
      "metadata": {
        "colab": {
          "base_uri": "https://localhost:8080/"
        },
        "id": "oa0frHfZAxgg",
        "outputId": "8acd72c8-f7d6-46fb-dbea-6978a4320da0"
      },
      "source": [
        "cv.get_feature_names()[:20]"
      ],
      "execution_count": null,
      "outputs": [
        {
          "output_type": "execute_result",
          "data": {
            "text/plain": [
              "['ab',\n",
              " 'abil',\n",
              " 'acceler',\n",
              " 'accept',\n",
              " 'access',\n",
              " 'accessori',\n",
              " 'accommod',\n",
              " 'account',\n",
              " 'acid',\n",
              " 'acquir',\n",
              " 'acquisit',\n",
              " 'acr',\n",
              " 'acreag',\n",
              " 'across',\n",
              " 'act',\n",
              " 'action',\n",
              " 'activ',\n",
              " 'acut',\n",
              " 'ad',\n",
              " 'adapt']"
            ]
          },
          "metadata": {
            "tags": []
          },
          "execution_count": 21
        }
      ]
    },
    {
      "cell_type": "code",
      "metadata": {
        "colab": {
          "base_uri": "https://localhost:8080/"
        },
        "id": "5QfePwMKA8et",
        "outputId": "8dc5438f-a1a1-4536-b500-4e88c74bc1c8"
      },
      "source": [
        "cv.get_params()"
      ],
      "execution_count": null,
      "outputs": [
        {
          "output_type": "execute_result",
          "data": {
            "text/plain": [
              "{'analyzer': 'word',\n",
              " 'binary': False,\n",
              " 'decode_error': 'strict',\n",
              " 'dtype': numpy.int64,\n",
              " 'encoding': 'utf-8',\n",
              " 'input': 'content',\n",
              " 'lowercase': True,\n",
              " 'max_df': 1.0,\n",
              " 'max_features': 1500,\n",
              " 'min_df': 1,\n",
              " 'ngram_range': (1, 1),\n",
              " 'preprocessor': None,\n",
              " 'stop_words': None,\n",
              " 'strip_accents': None,\n",
              " 'token_pattern': '(?u)\\\\b\\\\w\\\\w+\\\\b',\n",
              " 'tokenizer': None,\n",
              " 'vocabulary': None}"
            ]
          },
          "metadata": {
            "tags": []
          },
          "execution_count": 22
        }
      ]
    },
    {
      "cell_type": "markdown",
      "metadata": {
        "id": "Nw9ozvMNdRj9"
      },
      "source": [
        "Implement classifiers and compute Accuracy, F1 Score and AUC"
      ]
    },
    {
      "cell_type": "code",
      "metadata": {
        "colab": {
          "base_uri": "https://localhost:8080/"
        },
        "id": "1PWn8pstCfsL",
        "outputId": "cb6f3157-7d25-419c-ddaf-4a056aa9399e"
      },
      "source": [
        "from sklearn.naive_bayes import GaussianNB\r\n",
        "classifier = GaussianNB()\r\n",
        "classifier.fit(X_train,y_train)"
      ],
      "execution_count": null,
      "outputs": [
        {
          "output_type": "execute_result",
          "data": {
            "text/plain": [
              "GaussianNB(priors=None, var_smoothing=1e-09)"
            ]
          },
          "metadata": {
            "tags": []
          },
          "execution_count": 23
        }
      ]
    },
    {
      "cell_type": "code",
      "metadata": {
        "id": "NSO1iEgPDO0N",
        "colab": {
          "base_uri": "https://localhost:8080/"
        },
        "outputId": "a336fe25-ab8d-4654-9a5c-ec1328a37f2e"
      },
      "source": [
        "y_pred = classifier.predict(X_test)\r\n",
        "from sklearn.metrics import confusion_matrix,accuracy_score,f1_score\r\n",
        "cm = confusion_matrix(y_test,y_pred)\r\n",
        "#print(cm)\r\n",
        "print ('Accuracy:',accuracy_score(y_test, y_pred))\r\n",
        "print ('F1 score:', f1_score(y_test, y_pred,average='weighted'))\r\n",
        "\r\n",
        "from sklearn import metrics\r\n",
        "fpr, tpr, thresholds = metrics.roc_curve(y_test, y_pred,pos_label=61)\r\n",
        "print ('AUC score:',metrics.auc(fpr, tpr))"
      ],
      "execution_count": null,
      "outputs": [
        {
          "output_type": "stream",
          "text": [
            "Accuracy: 0.43568464730290457\n",
            "F1 score: 0.42663425057629834\n",
            "AUC score: 0.4511800334168755\n"
          ],
          "name": "stdout"
        }
      ]
    },
    {
      "cell_type": "code",
      "metadata": {
        "colab": {
          "base_uri": "https://localhost:8080/"
        },
        "id": "tW2CBz0ZF9_3",
        "outputId": "be819a80-c451-4aa8-c2da-ef2b758f3443"
      },
      "source": [
        "from sklearn.naive_bayes import MultinomialNB\r\n",
        "mnb = MultinomialNB()\r\n",
        "mnb.fit(X_train, y_train)"
      ],
      "execution_count": null,
      "outputs": [
        {
          "output_type": "execute_result",
          "data": {
            "text/plain": [
              "MultinomialNB(alpha=1.0, class_prior=None, fit_prior=True)"
            ]
          },
          "metadata": {
            "tags": []
          },
          "execution_count": 25
        }
      ]
    },
    {
      "cell_type": "code",
      "metadata": {
        "colab": {
          "base_uri": "https://localhost:8080/"
        },
        "id": "Ic6yrC2ZGMlD",
        "outputId": "b24ae231-4fa7-4c7f-9051-83f07fc8efe2"
      },
      "source": [
        "y_pred = mnb.predict(X_test)\r\n",
        "cm = confusion_matrix(y_test,y_pred)\r\n",
        "#print(cm)\r\n",
        "print ('Accuracy:',accuracy_score(y_test, y_pred))\r\n",
        "print ('F1 score:', f1_score(y_test, y_pred,average='weighted'))\r\n",
        "\r\n",
        "fpr, tpr, thresholds = metrics.roc_curve(y_test, y_pred,pos_label=61)\r\n",
        "print ('AUC score:',metrics.auc(fpr, tpr))"
      ],
      "execution_count": null,
      "outputs": [
        {
          "output_type": "stream",
          "text": [
            "Accuracy: 0.6672199170124481\n",
            "F1 score: 0.6599388246612796\n",
            "AUC score: 0.5982664995822891\n"
          ],
          "name": "stdout"
        }
      ]
    },
    {
      "cell_type": "code",
      "metadata": {
        "colab": {
          "base_uri": "https://localhost:8080/"
        },
        "id": "9kIUSztqKp8U",
        "outputId": "9e761e7a-14b8-4c86-e478-21b09ad7ec20"
      },
      "source": [
        "from sklearn.linear_model import PassiveAggressiveClassifier\r\n",
        "pac = PassiveAggressiveClassifier()\r\n",
        "pac.fit(X_train, y_train)"
      ],
      "execution_count": null,
      "outputs": [
        {
          "output_type": "execute_result",
          "data": {
            "text/plain": [
              "PassiveAggressiveClassifier(C=1.0, average=False, class_weight=None,\n",
              "                            early_stopping=False, fit_intercept=True,\n",
              "                            loss='hinge', max_iter=1000, n_iter_no_change=5,\n",
              "                            n_jobs=None, random_state=None, shuffle=True,\n",
              "                            tol=0.001, validation_fraction=0.1, verbose=0,\n",
              "                            warm_start=False)"
            ]
          },
          "metadata": {
            "tags": []
          },
          "execution_count": 27
        }
      ]
    },
    {
      "cell_type": "code",
      "metadata": {
        "colab": {
          "base_uri": "https://localhost:8080/"
        },
        "id": "GuI0a4kkLS5z",
        "outputId": "bfc61095-ea92-4e2a-c7be-516df0f06166"
      },
      "source": [
        "y_pred = pac.predict(X_test)\r\n",
        "cm = confusion_matrix(y_test,y_pred)\r\n",
        "#print(cm)\r\n",
        "print ('Accuracy:',accuracy_score(y_test, y_pred))\r\n",
        "print ('F1 score:', f1_score(y_test, y_pred,average='weighted'))\r\n",
        "\r\n",
        "fpr, tpr, thresholds = metrics.roc_curve(y_test, y_pred,pos_label=61)\r\n",
        "print ('AUC score:',metrics.auc(fpr, tpr))"
      ],
      "execution_count": null,
      "outputs": [
        {
          "output_type": "stream",
          "text": [
            "Accuracy: 0.6116182572614108\n",
            "F1 score: 0.6071608302808356\n",
            "AUC score: 0.7199770258980785\n"
          ],
          "name": "stdout"
        }
      ]
    },
    {
      "cell_type": "code",
      "metadata": {
        "colab": {
          "base_uri": "https://localhost:8080/"
        },
        "id": "gQWHBD6YQZat",
        "outputId": "01859bb8-6f9a-45ed-b052-23c20637f960"
      },
      "source": [
        "from sklearn.linear_model import LogisticRegression\r\n",
        "log = LogisticRegression(random_state = 0)\r\n",
        "log.fit(X_train, y_train)"
      ],
      "execution_count": null,
      "outputs": [
        {
          "output_type": "stream",
          "text": [
            "/usr/local/lib/python3.6/dist-packages/sklearn/linear_model/_logistic.py:940: ConvergenceWarning: lbfgs failed to converge (status=1):\n",
            "STOP: TOTAL NO. of ITERATIONS REACHED LIMIT.\n",
            "\n",
            "Increase the number of iterations (max_iter) or scale the data as shown in:\n",
            "    https://scikit-learn.org/stable/modules/preprocessing.html\n",
            "Please also refer to the documentation for alternative solver options:\n",
            "    https://scikit-learn.org/stable/modules/linear_model.html#logistic-regression\n",
            "  extra_warning_msg=_LOGISTIC_SOLVER_CONVERGENCE_MSG)\n"
          ],
          "name": "stderr"
        },
        {
          "output_type": "execute_result",
          "data": {
            "text/plain": [
              "LogisticRegression(C=1.0, class_weight=None, dual=False, fit_intercept=True,\n",
              "                   intercept_scaling=1, l1_ratio=None, max_iter=100,\n",
              "                   multi_class='auto', n_jobs=None, penalty='l2',\n",
              "                   random_state=0, solver='lbfgs', tol=0.0001, verbose=0,\n",
              "                   warm_start=False)"
            ]
          },
          "metadata": {
            "tags": []
          },
          "execution_count": 29
        }
      ]
    },
    {
      "cell_type": "code",
      "metadata": {
        "colab": {
          "base_uri": "https://localhost:8080/"
        },
        "id": "5PcWDy4CQfTu",
        "outputId": "01029c47-3bab-4923-9c79-90896e1766bc"
      },
      "source": [
        "y_pred = log.predict(X_test)\r\n",
        "cm = confusion_matrix(y_test, y_pred)\r\n",
        "#print(cm)\r\n",
        "print ('Accuracy:',accuracy_score(y_test, y_pred))\r\n",
        "print ('F1 score:', f1_score(y_test, y_pred,average='weighted'))\r\n",
        "\r\n",
        "fpr, tpr, thresholds = metrics.roc_curve(y_test, y_pred,pos_label=61)\r\n",
        "print ('AUC score:',metrics.auc(fpr, tpr))"
      ],
      "execution_count": null,
      "outputs": [
        {
          "output_type": "stream",
          "text": [
            "Accuracy: 0.645643153526971\n",
            "F1 score: 0.6415982456951899\n",
            "AUC score: 0.6920426065162907\n"
          ],
          "name": "stdout"
        }
      ]
    },
    {
      "cell_type": "code",
      "metadata": {
        "colab": {
          "base_uri": "https://localhost:8080/"
        },
        "id": "87Yl2YjfQKGM",
        "outputId": "feca4e59-8050-4813-bfd4-0d4f9211b944"
      },
      "source": [
        "from sklearn.neighbors import KNeighborsClassifier\r\n",
        "knn = KNeighborsClassifier(n_neighbors = 5, metric = 'minkowski', p = 2)\r\n",
        "knn.fit(X_train, y_train)"
      ],
      "execution_count": null,
      "outputs": [
        {
          "output_type": "execute_result",
          "data": {
            "text/plain": [
              "KNeighborsClassifier(algorithm='auto', leaf_size=30, metric='minkowski',\n",
              "                     metric_params=None, n_jobs=None, n_neighbors=5, p=2,\n",
              "                     weights='uniform')"
            ]
          },
          "metadata": {
            "tags": []
          },
          "execution_count": 31
        }
      ]
    },
    {
      "cell_type": "code",
      "metadata": {
        "colab": {
          "base_uri": "https://localhost:8080/"
        },
        "id": "Ar5BOEgsQsxj",
        "outputId": "39ec8037-f7bf-4180-9c11-f9b3afd1d1bf"
      },
      "source": [
        "y_pred = knn.predict(X_test)\r\n",
        "cm = confusion_matrix(y_test, y_pred)\r\n",
        "#print(cm)\r\n",
        "print ('Accuracy:',accuracy_score(y_test, y_pred))\r\n",
        "print ('F1 score:', f1_score(y_test, y_pred,average='weighted'))\r\n",
        "\r\n",
        "fpr, tpr, thresholds = metrics.roc_curve(y_test, y_pred,pos_label=61)\r\n",
        "print ('AUC score:',metrics.auc(fpr, tpr))"
      ],
      "execution_count": null,
      "outputs": [
        {
          "output_type": "stream",
          "text": [
            "Accuracy: 0.45726141078838173\n",
            "F1 score: 0.44501272141021425\n",
            "AUC score: 0.42387218045112784\n"
          ],
          "name": "stdout"
        }
      ]
    },
    {
      "cell_type": "code",
      "metadata": {
        "colab": {
          "base_uri": "https://localhost:8080/"
        },
        "id": "u9fPGh_IRYVM",
        "outputId": "2612473a-8f2b-4f7e-8ef4-b7848dd62b46"
      },
      "source": [
        "from sklearn.tree import DecisionTreeClassifier\r\n",
        "dt = DecisionTreeClassifier(criterion = 'entropy', random_state = 0)\r\n",
        "dt.fit(X_train, y_train)"
      ],
      "execution_count": null,
      "outputs": [
        {
          "output_type": "execute_result",
          "data": {
            "text/plain": [
              "DecisionTreeClassifier(ccp_alpha=0.0, class_weight=None, criterion='entropy',\n",
              "                       max_depth=None, max_features=None, max_leaf_nodes=None,\n",
              "                       min_impurity_decrease=0.0, min_impurity_split=None,\n",
              "                       min_samples_leaf=1, min_samples_split=2,\n",
              "                       min_weight_fraction_leaf=0.0, presort='deprecated',\n",
              "                       random_state=0, splitter='best')"
            ]
          },
          "metadata": {
            "tags": []
          },
          "execution_count": 33
        }
      ]
    },
    {
      "cell_type": "code",
      "metadata": {
        "colab": {
          "base_uri": "https://localhost:8080/"
        },
        "id": "qSFPnYTsRsfP",
        "outputId": "e8a7e634-7995-49e3-a6d3-ba5ea06636b1"
      },
      "source": [
        "y_pred = dt.predict(X_test)\r\n",
        "cm = confusion_matrix(y_test, y_pred)\r\n",
        "#print(cm)\r\n",
        "print ('Accuracy:',accuracy_score(y_test, y_pred))\r\n",
        "print ('F1 score:', f1_score(y_test, y_pred,average='weighted'))\r\n",
        "\r\n",
        "fpr, tpr, thresholds = metrics.roc_curve(y_test, y_pred,pos_label=61)\r\n",
        "print ('AUC score:',metrics.auc(fpr, tpr))"
      ],
      "execution_count": null,
      "outputs": [
        {
          "output_type": "stream",
          "text": [
            "Accuracy: 0.3369294605809129\n",
            "F1 score: 0.3379111166145514\n",
            "AUC score: 0.556234335839599\n"
          ],
          "name": "stdout"
        }
      ]
    },
    {
      "cell_type": "code",
      "metadata": {
        "colab": {
          "base_uri": "https://localhost:8080/"
        },
        "id": "0xS2C3GeRyWh",
        "outputId": "3838e886-9952-4dcd-e3c1-3cf50ec3be2f"
      },
      "source": [
        "from sklearn.ensemble import RandomForestClassifier\r\n",
        "rf = RandomForestClassifier(n_estimators = 10, criterion = 'entropy', random_state = 0)\r\n",
        "rf.fit(X_train, y_train)"
      ],
      "execution_count": null,
      "outputs": [
        {
          "output_type": "execute_result",
          "data": {
            "text/plain": [
              "RandomForestClassifier(bootstrap=True, ccp_alpha=0.0, class_weight=None,\n",
              "                       criterion='entropy', max_depth=None, max_features='auto',\n",
              "                       max_leaf_nodes=None, max_samples=None,\n",
              "                       min_impurity_decrease=0.0, min_impurity_split=None,\n",
              "                       min_samples_leaf=1, min_samples_split=2,\n",
              "                       min_weight_fraction_leaf=0.0, n_estimators=10,\n",
              "                       n_jobs=None, oob_score=False, random_state=0, verbose=0,\n",
              "                       warm_start=False)"
            ]
          },
          "metadata": {
            "tags": []
          },
          "execution_count": 35
        }
      ]
    },
    {
      "cell_type": "code",
      "metadata": {
        "colab": {
          "base_uri": "https://localhost:8080/"
        },
        "id": "7jhfxAo5SCAQ",
        "outputId": "30a32d21-849d-42cd-f73f-3980a138a54b"
      },
      "source": [
        "y_pred = rf.predict(X_test)\r\n",
        "cm = confusion_matrix(y_test, y_pred)\r\n",
        "#print(cm)\r\n",
        "print ('Accuracy:',accuracy_score(y_test, y_pred))\r\n",
        "print ('F1 score:', f1_score(y_test, y_pred,average='weighted'))\r\n",
        "\r\n",
        "fpr, tpr, thresholds = metrics.roc_curve(y_test, y_pred,pos_label=61)\r\n",
        "print ('AUC score:',metrics.auc(fpr, tpr))"
      ],
      "execution_count": null,
      "outputs": [
        {
          "output_type": "stream",
          "text": [
            "Accuracy: 0.3817427385892116\n",
            "F1 score: 0.338576631763304\n",
            "AUC score: 0.4137426900584795\n"
          ],
          "name": "stdout"
        }
      ]
    }
  ]
}